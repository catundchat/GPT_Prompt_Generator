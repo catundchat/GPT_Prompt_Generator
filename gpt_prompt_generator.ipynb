{
  "cells": [
    {
      "cell_type": "markdown",
      "metadata": {
        "id": "view-in-github",
        "colab_type": "text"
      },
      "source": [
        "<a href=\"https://colab.research.google.com/github/catundchat/GPT_Prompt_Generator/blob/main/gpt_prompt_generator.ipynb\" target=\"_parent\"><img src=\"https://colab.research.google.com/assets/colab-badge.svg\" alt=\"Open In Colab\"/></a>"
      ]
    },
    {
      "cell_type": "markdown",
      "metadata": {
        "id": "WljjH8K3s7kG"
      },
      "source": [
        "# GPT PROMPT GENERATOR\n",
        "\n",
        "To generate a prompt:\n",
        "1. In the SECOND cell, add your OpenAI key.\n",
        "2. In the FOURTH cell, if you have GPT-4 access, you're ready to move on. If not, change CANDIDATE_MODEL='gpt-4' to CANDIDATE_MODEL='gpt-3.5-turbo'\n",
        "3. In the FOURTH cell, change temperature, max_tokens and number_of_prompts\n",
        "4. In the last but one cell, fill in the description of your task, up to 15 test cases.\n",
        "5. Now all you need is to run all the cells. Good luck and have fun."
      ]
    },
    {
      "cell_type": "markdown",
      "source": [
        "# 生成式预训练模型提示词生成器\n",
        "为了生成一个提示词：\n",
        "1. 在第二个单元格中，添加OpenAI密钥\n",
        "2. 在第四个单元格中，如果你有GPT-4 API的访问权限,那你已经做好准备开展下一步了；如果你没有，则将\"CANDIDATE_MODEL='gpt-4\"改成\"CANDIDATE_MODEL='gpt-3.5-turbo'\"\n",
        "3. 在第四个单元格中，更改如下参数：温度，最大令牌数和提示词数量\n",
        "4. 在倒数第二个单元格中，修改你工作的描述，并补充最多15个测试用例\n",
        "5. 现在可以执行所有单元格了。祝你好运"
      ],
      "metadata": {
        "id": "CBbOA_cb6fvh"
      }
    },
    {
      "cell_type": "code",
      "execution_count": 1,
      "metadata": {
        "id": "9CyLUUc7-N93",
        "colab": {
          "base_uri": "https://localhost:8080/"
        },
        "outputId": "4986bbd0-c940-4ace-ca7e-8ab98eebc43f"
      },
      "outputs": [
        {
          "output_type": "stream",
          "name": "stdout",
          "text": [
            "\u001b[2K     \u001b[90m━━━━━━━━━━━━━━━━━━━━━━━━━━━━━━━━━━━━━━━━\u001b[0m \u001b[32m73.6/73.6 kB\u001b[0m \u001b[31m2.6 MB/s\u001b[0m eta \u001b[36m0:00:00\u001b[0m\n",
            "\u001b[2K     \u001b[90m━━━━━━━━━━━━━━━━━━━━━━━━━━━━━━━━━━━━━━━━\u001b[0m \u001b[32m2.1/2.1 MB\u001b[0m \u001b[31m32.1 MB/s\u001b[0m eta \u001b[36m0:00:00\u001b[0m\n",
            "\u001b[2K     \u001b[90m━━━━━━━━━━━━━━━━━━━━━━━━━━━━━━━━━━━━━━\u001b[0m \u001b[32m188.5/188.5 kB\u001b[0m \u001b[31m21.6 MB/s\u001b[0m eta \u001b[36m0:00:00\u001b[0m\n",
            "\u001b[2K     \u001b[90m━━━━━━━━━━━━━━━━━━━━━━━━━━━━━━━━━━━━━━\u001b[0m \u001b[32m213.2/213.2 kB\u001b[0m \u001b[31m21.0 MB/s\u001b[0m eta \u001b[36m0:00:00\u001b[0m\n",
            "\u001b[?25h  Preparing metadata (setup.py) ... \u001b[?25l\u001b[?25hdone\n",
            "\u001b[2K     \u001b[90m━━━━━━━━━━━━━━━━━━━━━━━━━━━━━━━━━━━━━━━━\u001b[0m \u001b[32m62.7/62.7 kB\u001b[0m \u001b[31m7.5 MB/s\u001b[0m eta \u001b[36m0:00:00\u001b[0m\n",
            "\u001b[?25h  Building wheel for pathtools (setup.py) ... \u001b[?25l\u001b[?25hdone\n"
          ]
        }
      ],
      "source": [
        "!pip install openai prettytable tqdm tenacity wandb -qq"
      ]
    },
    {
      "cell_type": "code",
      "execution_count": 2,
      "metadata": {
        "id": "dQmMZdkG_RA5"
      },
      "outputs": [],
      "source": [
        "from prettytable import PrettyTable\n",
        "import time\n",
        "import openai\n",
        "from tqdm import tqdm\n",
        "import itertools\n",
        "import wandb\n",
        "from tenacity import retry, stop_after_attempt, wait_exponential\n",
        "\n",
        "openai.api_key = \"\" # enter your OpenAI API key here\n",
        "\n",
        "use_wandb = False # Weights & Biases (wandb) is used to track the procedure of generating prompts. if u wanna keep your data private, keep it False."
      ]
    },
    {
      "cell_type": "code",
      "execution_count": 3,
      "metadata": {
        "id": "_sd-ltAy-N95"
      },
      "outputs": [],
      "source": [
        "system_gen_system_prompt = \"\"\"Your job is to generate system prompts for GPT-4, given a description of the use-case and some test cases.\n",
        "\n",
        "The prompts you will be generating will be for freeform tasks, such as generating a landing page headline, an intro paragraph, solving a math problem, etc.\n",
        "\n",
        "In your generated prompt, you should describe how the AI should behave in plain English. Include what it will see, and what it's allowed to output. Be creative with prompts to get the best possible results. The AI knows it's an AI -- you don't need to tell it this.\n",
        "\n",
        "You will be graded based on the performance of your prompt... but don't cheat! You cannot include specifics about the test cases in your prompt. Any prompts with examples will be disqualified.\n",
        "\n",
        "Most importantly, output NOTHING but the prompt. Do not include anything else in your message.\"\"\"\n",
        "\n",
        "\n",
        "ranking_system_prompt = \"\"\"Your job is to rank the quality of two outputs generated by different prompts. The prompts are used to generate a response for a given task.\n",
        "\n",
        "You will be provided with the task description, the test prompt, and two generations - one for each system prompt.\n",
        "\n",
        "Rank the generations in order of quality. If Generation A is better, respond with 'A'. If Generation B is better, respond with 'B'.\n",
        "\n",
        "Remember, to be considered 'better', a generation must not just be good, it must be noticeably superior to the other.\n",
        "\n",
        "Also, keep in mind that you are a very harsh critic. Only rank a generation as better if it truly impresses you more than the other.\n",
        "\n",
        "Respond with your ranking, and nothing else. Be fair and unbiased in your judgement.\"\"\""
      ]
    },
    {
      "cell_type": "code",
      "execution_count": 4,
      "metadata": {
        "id": "oCz6JCif-N96"
      },
      "outputs": [],
      "source": [
        "# K is a constant factor that determines how much ratings change\n",
        "K = 32\n",
        "\n",
        "CANDIDATE_MODEL = 'gpt-4' # CHANGE HERE IF U NEED\n",
        "CANDIDATE_MODEL_TEMPERATURE = 0.9\n",
        "\n",
        "GENERATION_MODEL = 'gpt-3.5-turbo'\n",
        "GENERATION_MODEL_TEMPERATURE = 0.8\n",
        "GENERATION_MODEL_MAX_TOKENS = 60\n",
        "\n",
        "N_RETRIES = 3  # number of times to retry a call to the ranking model if it fails\n",
        "RANKING_MODEL = 'gpt-3.5-turbo'\n",
        "RANKING_MODEL_TEMPERATURE = 0.5\n",
        "\n",
        "NUMBER_OF_PROMPTS = 7 # this determines how many candidate prompts to generate. The higher, the more expensive, but the better the results will be\n",
        "\n",
        "WANDB_PROJECT_NAME = \"LaunayViolette\" # used if use_wandb is True, Weights &| Biases project name\n",
        "WANDB_RUN_NAME = None # used if use_wandb is True, optionally set the Weights & Biases run name to identify this run"
      ]
    },
    {
      "cell_type": "code",
      "execution_count": 5,
      "metadata": {
        "id": "KjKtHwLt-N97"
      },
      "outputs": [],
      "source": [
        "def start_wandb_run():\n",
        "  # start a new wandb run and log the config\n",
        "  wandb.init(\n",
        "    project=WANDB_PROJECT_NAME,\n",
        "    name=WANDB_RUN_NAME,\n",
        "    config={\n",
        "      \"K\": K,\n",
        "      \"system_gen_system_prompt\": system_gen_system_prompt,\n",
        "      \"ranking_system_prompt\": ranking_system_prompt,\n",
        "      \"candiate_model\": CANDIDATE_MODEL,\n",
        "      \"candidate_model_temperature\": CANDIDATE_MODEL_TEMPERATURE,\n",
        "      \"generation_model\": GENERATION_MODEL,\n",
        "      \"generation_model_temperature\": GENERATION_MODEL_TEMPERATURE,\n",
        "      \"generation_model_max_tokens\": GENERATION_MODEL_MAX_TOKENS,\n",
        "      \"n_retries\": N_RETRIES,\n",
        "      \"ranking_model\": RANKING_MODEL,\n",
        "      \"ranking_model_temperature\": RANKING_MODEL_TEMPERATURE,\n",
        "      \"number_of_prompts\": NUMBER_OF_PROMPTS\n",
        "      })\n",
        "\n",
        "  return"
      ]
    },
    {
      "cell_type": "code",
      "execution_count": 6,
      "metadata": {
        "id": "4lMIEE1J-N97"
      },
      "outputs": [],
      "source": [
        "# Optional logging to Weights & Biases to reocrd the configs, prompts and results\n",
        "if use_wandb:\n",
        "  start_wandb_run()"
      ]
    },
    {
      "cell_type": "code",
      "execution_count": 7,
      "metadata": {
        "id": "wXeqMQpzzosx"
      },
      "outputs": [],
      "source": [
        "def generate_candidate_prompts(description, test_cases, number_of_prompts):\n",
        "  outputs = openai.ChatCompletion.create(\n",
        "      model=CANDIDATE_MODEL, # change this to gpt-3.5-turbo if you don't have GPT-4 access\n",
        "      messages=[\n",
        "          {\"role\": \"system\", \"content\": system_gen_system_prompt},\n",
        "          {\"role\": \"user\", \"content\": f\"Here are some test cases:`{test_cases}`\\n\\nHere is the description of the use-case: `{description.strip()}`\\n\\nRespond with your prompt, and nothing else. Be creative.\"}\n",
        "          ],\n",
        "      temperature=CANDIDATE_MODEL_TEMPERATURE,\n",
        "      n=number_of_prompts)\n",
        "\n",
        "  prompts = []\n",
        "\n",
        "  for i in outputs.choices:\n",
        "    prompts.append(i.message.content)\n",
        "  return prompts\n",
        "\n",
        "def expected_score(r1, r2):\n",
        "    return 1 / (1 + 10**((r2 - r1) / 400))\n",
        "\n",
        "def update_elo(r1, r2, score1):\n",
        "    e1 = expected_score(r1, r2)\n",
        "    e2 = expected_score(r2, r1)\n",
        "    return r1 + K * (score1 - e1), r2 + K * ((1 - score1) - e2)\n",
        "\n",
        "# Get Score - retry up to N_RETRIES times, waiting exponentially between retries.\n",
        "@retry(stop=stop_after_attempt(N_RETRIES), wait=wait_exponential(multiplier=1, min=4, max=70))\n",
        "def get_score(description, test_case, pos1, pos2, ranking_model_name, ranking_model_temperature):\n",
        "    score = openai.ChatCompletion.create(\n",
        "        model=ranking_model_name,\n",
        "        messages=[\n",
        "            {\"role\": \"system\", \"content\": ranking_system_prompt},\n",
        "            {\"role\": \"user\", \"content\": f\"\"\"Task: {description.strip()}\n",
        "Prompt: {test_case['prompt']}\n",
        "Generation A: {pos1}\n",
        "Generation B: {pos2}\"\"\"}\n",
        "        ],\n",
        "        logit_bias={\n",
        "              '32': 100,  # 'A' token\n",
        "              '33': 100,  # 'B' token\n",
        "        },\n",
        "        max_tokens=1,\n",
        "        temperature=ranking_model_temperature,\n",
        "    ).choices[0].message.content\n",
        "    return score\n",
        "\n",
        "@retry(stop=stop_after_attempt(N_RETRIES), wait=wait_exponential(multiplier=1, min=4, max=70))\n",
        "def get_generation(prompt, test_case):\n",
        "    generation = openai.ChatCompletion.create(\n",
        "        model=GENERATION_MODEL,\n",
        "        messages=[\n",
        "            {\"role\": \"system\", \"content\": prompt},\n",
        "            {\"role\": \"user\", \"content\": f\"{test_case['prompt']}\"}\n",
        "        ],\n",
        "        max_tokens=GENERATION_MODEL_MAX_TOKENS,\n",
        "        temperature=GENERATION_MODEL_TEMPERATURE,\n",
        "    ).choices[0].message.content\n",
        "    return generation\n",
        "\n",
        "def test_candidate_prompts(test_cases, description, prompts):\n",
        "  # Initialize each prompt with an ELO rating of 1200\n",
        "  prompt_ratings = {prompt: 1200 for prompt in prompts}\n",
        "\n",
        "  # Calculate total rounds for progress bar\n",
        "  total_rounds = len(test_cases) * len(prompts) * (len(prompts) - 1) // 2\n",
        "\n",
        "  # Initialize progress bar\n",
        "  pbar = tqdm(total=total_rounds, ncols=70)\n",
        "\n",
        "  # For each pair of prompts\n",
        "  for prompt1, prompt2 in itertools.combinations(prompts, 2):\n",
        "      # For each test case\n",
        "      for test_case in test_cases:\n",
        "          # Update progress bar\n",
        "          pbar.update()\n",
        "\n",
        "          # Generate outputs for each prompt\n",
        "          generation1 = get_generation(prompt1, test_case)\n",
        "          generation2 = get_generation(prompt2, test_case)\n",
        "\n",
        "          # Rank the outputs\n",
        "          score1 = get_score(description, test_case, generation1, generation2, RANKING_MODEL, RANKING_MODEL_TEMPERATURE)\n",
        "          score2 = get_score(description, test_case, generation2, generation1, RANKING_MODEL, RANKING_MODEL_TEMPERATURE)\n",
        "\n",
        "          # Convert scores to numeric values\n",
        "          score1 = 1 if score1 == 'A' else 0 if score1 == 'B' else 0.5\n",
        "          score2 = 1 if score2 == 'B' else 0 if score2 == 'A' else 0.5\n",
        "\n",
        "          # Average the scores\n",
        "          score = (score1 + score2) / 2\n",
        "\n",
        "          # Update ELO ratings\n",
        "          r1, r2 = prompt_ratings[prompt1], prompt_ratings[prompt2]\n",
        "          r1, r2 = update_elo(r1, r2, score)\n",
        "          prompt_ratings[prompt1], prompt_ratings[prompt2] = r1, r2\n",
        "\n",
        "          # Print the winner of this round\n",
        "          if score > 0.5:\n",
        "              print(f\"Winner: {prompt1}\")\n",
        "          elif score < 0.5:\n",
        "              print(f\"Winner: {prompt2}\")\n",
        "          else:\n",
        "              print(\"Draw\")\n",
        "\n",
        "  # Close progress bar\n",
        "  pbar.close()\n",
        "\n",
        "  return prompt_ratings\n",
        "\n",
        "\n",
        "def generate_optimal_prompt(description, test_cases, number_of_prompts, use_wandb=False):\n",
        "  if use_wandb:\n",
        "    wandb_table = wandb.Table(columns=[\"Prompt\", \"Ranking\"])\n",
        "    if wandb.run is None:\n",
        "      start_wandb_run()\n",
        "\n",
        "  prompts = generate_candidate_prompts(description, test_cases, number_of_prompts)\n",
        "  prompt_ratings = test_candidate_prompts(test_cases, description, prompts)\n",
        "\n",
        "  # Print the final ELO ratingsz\n",
        "  table = PrettyTable()\n",
        "  table.field_names = [\"Prompt\", \"Rating\"]\n",
        "  for prompt, rating in sorted(prompt_ratings.items(), key=lambda item: item[1], reverse=True):\n",
        "      table.add_row([prompt, rating])\n",
        "      if use_wandb:\n",
        "         wandb_table.add_data(prompt, rating)\n",
        "\n",
        "  if use_wandb: # log the results to a Weights & Biases table and finsih the run\n",
        "    wandb.log({\"prompt_ratings\": wandb_table})\n",
        "    wandb.finish()\n",
        "  print(table)"
      ]
    },
    {
      "cell_type": "markdown",
      "metadata": {
        "id": "MJSSKFfV_X9F"
      },
      "source": [
        "In the cell below, fill in your description and test cases:"
      ]
    },
    {
      "cell_type": "code",
      "execution_count": 8,
      "metadata": {
        "id": "vCZvLyDepxFP"
      },
      "outputs": [],
      "source": [
        "description = \"这是一个心理学和亲密关系的对话模型，特别专注于育儿问题。模型应该能够理解和回应各种关于育儿的问题，提供有同理心和专业知识的答案。\"\n",
        "\n",
        "test_cases = [\n",
        "    {\n",
        "        \"prompt\": \"我儿子总是不听话，我该怎么办？\",\n",
        "        \"completion\": \"作为父母，我们理解你的困扰。首先，了解一下他的需求和感受是非常重要的。他可能是在寻求关注，或者在某些方面感到挫败。尝试和他进行沟通，了解他为什么不听话，然后提供适当的指导和支持。\"\n",
        "    },\n",
        "    {\n",
        "        \"prompt\": \"我的女儿对学习没有兴趣，我应该怎么激励她？\",\n",
        "        \"completion\": \"激发孩子对学习的兴趣可以是一项挑战。一个可能的方法是将学习与她的兴趣结合起来。如果她喜欢艺术，试试看能否找到一些结合艺术和学习的项目。另一个策略是设定合理的目标，并奖励她达成目标。\"\n",
        "    },\n",
        "    {\n",
        "        \"prompt\": \"我感到育儿压力很大，我应该怎么缓解？\",\n",
        "        \"completion\": \"育儿确实可以带来压力。记住，花时间照顾自己也是非常重要的。找一些你喜欢的事情去做，如阅读、运动或者和朋友聊天。如果压力过大，也可以寻求专业的心理咨询师帮助。\"\n",
        "    },\n",
        "]\n",
        "\n",
        "# description = \"Given a prompt, generate a prompt to help large language model understand what user says and have better empathy and generate better responses\"\n",
        "\n",
        "# test_cases = [\n",
        "#     {\n",
        "#         'prompt': 'You are a very skilled psychology assistant with extensive knowledge of psychology and intimate relationship problem solving skills, and now you need to talk to users. Please empathise with your users and solve their problems as best as you can.'\n",
        "#     }\n",
        "# ]\n",
        "\n",
        "# test_cases format\n",
        "# test_cases = [\n",
        "#     {\n",
        "#         'prompt': '总会有地上的生灵，敢于直面雷霆的威光',\n",
        "#     },\n",
        "#     {\n",
        "#         'prompt': '若你困于无风之地，我将为你奏响高天之歌',\n",
        "#     },\n",
        "#     {\n",
        "#         'prompt': '倘若七神心中各有标尺，将神之眼赐予众生',\n",
        "#     }\n",
        "# ]\n",
        "\n",
        "if use_wandb:\n",
        "    wandb.config.update({\"description\": description,\n",
        "                        \"test_cases\": test_cases})"
      ]
    },
    {
      "cell_type": "code",
      "execution_count": 9,
      "metadata": {
        "id": "_WQmXfPC-N9_",
        "colab": {
          "base_uri": "https://localhost:8080/"
        },
        "outputId": "86cd379c-0774-470a-c006-e0cc8f4245ff"
      },
      "outputs": [
        {
          "output_type": "stream",
          "name": "stderr",
          "text": [
            "  3%|█                                 | 2/63 [00:04<02:09,  2.13s/it]"
          ]
        },
        {
          "output_type": "stream",
          "name": "stdout",
          "text": [
            "Draw\n"
          ]
        },
        {
          "output_type": "stream",
          "name": "stderr",
          "text": [
            "\r  5%|█▌                                | 3/63 [00:08<02:59,  3.00s/it]"
          ]
        },
        {
          "output_type": "stream",
          "name": "stdout",
          "text": [
            "Winner: As an AI specializing in psychology and intimate relationships with a focus on parenting issues, your job is to provide understanding and empathetic responses to a variety of questions about parenting. Your answers should be grounded in psychological best practices and empathy. Keep in mind that the person asking the question might be in a state of stress or confusion, so tailor your responses in a way that is supportive and non-judgmental. Use your understanding of human emotions and reactions to provide the most useful and comforting advice.\n"
          ]
        },
        {
          "output_type": "stream",
          "name": "stderr",
          "text": [
            "\r  6%|██▏                               | 4/63 [00:12<03:24,  3.47s/it]"
          ]
        },
        {
          "output_type": "stream",
          "name": "stdout",
          "text": [
            "Winner: As a conversational model with a focus in Psychology and Parenting challenges, your role is to understand and respond to a variety of questions related to parenting issues. You should provide empathetic and informed responses that aim at empowering or guiding the parent based on the problem at hand. Keep in mind that your responses should be non-judgmental, insightful, and sensitive to the concerns of the parent. Analyze the details provided in the question to provide tailored advice.\n"
          ]
        },
        {
          "output_type": "stream",
          "name": "stderr",
          "text": [
            "\r  8%|██▋                               | 5/63 [00:17<03:38,  3.77s/it]"
          ]
        },
        {
          "output_type": "stream",
          "name": "stdout",
          "text": [
            "Winner: As an AI specializing in psychology and intimate relationships with a focus on parenting issues, your job is to provide understanding and empathetic responses to a variety of questions about parenting. Your answers should be grounded in psychological best practices and empathy. Keep in mind that the person asking the question might be in a state of stress or confusion, so tailor your responses in a way that is supportive and non-judgmental. Use your understanding of human emotions and reactions to provide the most useful and comforting advice.\n"
          ]
        },
        {
          "output_type": "stream",
          "name": "stderr",
          "text": [
            "\r 10%|███▏                              | 6/63 [00:35<08:13,  8.66s/it]"
          ]
        },
        {
          "output_type": "stream",
          "name": "stdout",
          "text": [
            "Draw\n"
          ]
        },
        {
          "output_type": "stream",
          "name": "stderr",
          "text": [
            "\r 11%|███▊                              | 7/63 [00:40<07:02,  7.54s/it]"
          ]
        },
        {
          "output_type": "stream",
          "name": "stdout",
          "text": [
            "Draw\n"
          ]
        },
        {
          "output_type": "stream",
          "name": "stderr",
          "text": [
            "\r 13%|████▎                             | 8/63 [00:47<06:41,  7.29s/it]"
          ]
        },
        {
          "output_type": "stream",
          "name": "stdout",
          "text": [
            "Draw\n"
          ]
        },
        {
          "output_type": "stream",
          "name": "stderr",
          "text": [
            "\r 14%|████▊                             | 9/63 [00:51<05:35,  6.21s/it]"
          ]
        },
        {
          "output_type": "stream",
          "name": "stdout",
          "text": [
            "Draw\n"
          ]
        },
        {
          "output_type": "stream",
          "name": "stderr",
          "text": [
            "\r 16%|█████▏                           | 10/63 [00:56<05:06,  5.79s/it]"
          ]
        },
        {
          "output_type": "stream",
          "name": "stdout",
          "text": [
            "Draw\n"
          ]
        },
        {
          "output_type": "stream",
          "name": "stderr",
          "text": [
            "\r 17%|█████▊                           | 11/63 [01:01<04:51,  5.60s/it]"
          ]
        },
        {
          "output_type": "stream",
          "name": "stdout",
          "text": [
            "Draw\n"
          ]
        },
        {
          "output_type": "stream",
          "name": "stderr",
          "text": [
            "\r 19%|██████▎                          | 12/63 [01:05<04:16,  5.04s/it]"
          ]
        },
        {
          "output_type": "stream",
          "name": "stdout",
          "text": [
            "Draw\n"
          ]
        },
        {
          "output_type": "stream",
          "name": "stderr",
          "text": [
            "\r 21%|██████▊                          | 13/63 [01:09<04:01,  4.83s/it]"
          ]
        },
        {
          "output_type": "stream",
          "name": "stdout",
          "text": [
            "Winner: As an AI specializing in psychology and intimate relationships with a focus on parenting issues, your job is to provide understanding and empathetic responses to a variety of questions about parenting. Your answers should be grounded in psychological best practices and empathy. Keep in mind that the person asking the question might be in a state of stress or confusion, so tailor your responses in a way that is supportive and non-judgmental. Use your understanding of human emotions and reactions to provide the most useful and comforting advice.\n"
          ]
        },
        {
          "output_type": "stream",
          "name": "stderr",
          "text": [
            "\r 22%|███████▎                         | 14/63 [01:13<03:46,  4.63s/it]"
          ]
        },
        {
          "output_type": "stream",
          "name": "stdout",
          "text": [
            "Draw\n"
          ]
        },
        {
          "output_type": "stream",
          "name": "stderr",
          "text": [
            "\r 24%|███████▊                         | 15/63 [01:17<03:36,  4.51s/it]"
          ]
        },
        {
          "output_type": "stream",
          "name": "stdout",
          "text": [
            "Draw\n"
          ]
        },
        {
          "output_type": "stream",
          "name": "stderr",
          "text": [
            "\r 25%|████████▍                        | 16/63 [01:21<03:27,  4.40s/it]"
          ]
        },
        {
          "output_type": "stream",
          "name": "stdout",
          "text": [
            "Draw\n"
          ]
        },
        {
          "output_type": "stream",
          "name": "stderr",
          "text": [
            "\r 27%|████████▉                        | 17/63 [01:25<03:10,  4.14s/it]"
          ]
        },
        {
          "output_type": "stream",
          "name": "stdout",
          "text": [
            "Winner: As an AI with expertise in psychology, parenting, and interpersonal relationships, your task is to understand and responsively answer a variety of parenting-related questions. The answers you provide should demonstrate empathy, be grounded in professional knowledge, and offer constructive solutions or suggestions. Utilize your multilingual capabilities to engage in conversations in different languages so as to offer advice to a wide array of users worldwide. Please bear in mind to respect cultural differences and maintain a positive and supportive tone throughout the conversation.\n"
          ]
        },
        {
          "output_type": "stream",
          "name": "stderr",
          "text": [
            "\r 29%|█████████▍                       | 18/63 [01:29<03:04,  4.09s/it]"
          ]
        },
        {
          "output_type": "stream",
          "name": "stdout",
          "text": [
            "Draw\n"
          ]
        },
        {
          "output_type": "stream",
          "name": "stderr",
          "text": [
            "\r 30%|█████████▉                       | 19/63 [01:33<02:59,  4.08s/it]"
          ]
        },
        {
          "output_type": "stream",
          "name": "stdout",
          "text": [
            "Draw\n"
          ]
        },
        {
          "output_type": "stream",
          "name": "stderr",
          "text": [
            "\r 32%|██████████▍                      | 20/63 [01:37<02:49,  3.95s/it]"
          ]
        },
        {
          "output_type": "stream",
          "name": "stdout",
          "text": [
            "Draw\n"
          ]
        },
        {
          "output_type": "stream",
          "name": "stderr",
          "text": [
            "\r 33%|███████████                      | 21/63 [01:41<02:47,  3.99s/it]"
          ]
        },
        {
          "output_type": "stream",
          "name": "stdout",
          "text": [
            "Draw\n"
          ]
        },
        {
          "output_type": "stream",
          "name": "stderr",
          "text": [
            "\r 35%|███████████▌                     | 22/63 [01:44<02:40,  3.91s/it]"
          ]
        },
        {
          "output_type": "stream",
          "name": "stdout",
          "text": [
            "Draw\n"
          ]
        },
        {
          "output_type": "stream",
          "name": "stderr",
          "text": [
            "\r 37%|████████████                     | 23/63 [01:48<02:36,  3.91s/it]"
          ]
        },
        {
          "output_type": "stream",
          "name": "stdout",
          "text": [
            "Draw\n"
          ]
        },
        {
          "output_type": "stream",
          "name": "stderr",
          "text": [
            "\r 38%|████████████▌                    | 24/63 [01:53<02:35,  3.98s/it]"
          ]
        },
        {
          "output_type": "stream",
          "name": "stdout",
          "text": [
            "Draw\n"
          ]
        },
        {
          "output_type": "stream",
          "name": "stderr",
          "text": [
            "\r 40%|█████████████                    | 25/63 [01:56<02:26,  3.84s/it]"
          ]
        },
        {
          "output_type": "stream",
          "name": "stdout",
          "text": [
            "Draw\n"
          ]
        },
        {
          "output_type": "stream",
          "name": "stderr",
          "text": [
            "\r 41%|█████████████▌                   | 26/63 [02:00<02:25,  3.94s/it]"
          ]
        },
        {
          "output_type": "stream",
          "name": "stdout",
          "text": [
            "Winner: As an advanced conversational AI model with psychological and relationship knowledge, your task is to provide empathetic and professional responses to various parenting-related questions. You should be able to understand the nuances in the provided prompts, capture the worries or concerns behind the questions, and generate detailed, thoughtful, and practical suggestions to help parents tackle their problems. Remember to cater your advice to the given situations and demonstrate understanding and empathy.\n"
          ]
        },
        {
          "output_type": "stream",
          "name": "stderr",
          "text": [
            "\r 43%|██████████████▏                  | 27/63 [02:04<02:21,  3.94s/it]"
          ]
        },
        {
          "output_type": "stream",
          "name": "stdout",
          "text": [
            "Winner: As an advanced conversational AI model with psychological and relationship knowledge, your task is to provide empathetic and professional responses to various parenting-related questions. You should be able to understand the nuances in the provided prompts, capture the worries or concerns behind the questions, and generate detailed, thoughtful, and practical suggestions to help parents tackle their problems. Remember to cater your advice to the given situations and demonstrate understanding and empathy.\n"
          ]
        },
        {
          "output_type": "stream",
          "name": "stderr",
          "text": [
            "\r 44%|██████████████▋                  | 28/63 [02:08<02:20,  4.00s/it]"
          ]
        },
        {
          "output_type": "stream",
          "name": "stdout",
          "text": [
            "Draw\n"
          ]
        },
        {
          "output_type": "stream",
          "name": "stderr",
          "text": [
            "\r 46%|███████████████▏                 | 29/63 [02:13<02:24,  4.25s/it]"
          ]
        },
        {
          "output_type": "stream",
          "name": "stdout",
          "text": [
            "Winner: As an AI with knowledge in psychology and intimate relationships, your task is to provide empathetic and professional advice pertaining to various parenting issues. When given a query, you should understand and respond appropriately to the concern, offering solutions based on professional knowledge and personal empathy. This could include strategies to motivate children, ways to handle disobedience, suggestions to relieve parenting stress, and more.\n"
          ]
        },
        {
          "output_type": "stream",
          "name": "stderr",
          "text": [
            "\r 48%|███████████████▋                 | 30/63 [02:17<02:21,  4.27s/it]"
          ]
        },
        {
          "output_type": "stream",
          "name": "stdout",
          "text": [
            "Draw\n"
          ]
        },
        {
          "output_type": "stream",
          "name": "stderr",
          "text": [
            "\r 49%|████████████████▏                | 31/63 [02:21<02:14,  4.19s/it]"
          ]
        },
        {
          "output_type": "stream",
          "name": "stdout",
          "text": [
            "Draw\n"
          ]
        },
        {
          "output_type": "stream",
          "name": "stderr",
          "text": [
            "\r 51%|████████████████▊                | 32/63 [02:26<02:11,  4.23s/it]"
          ]
        },
        {
          "output_type": "stream",
          "name": "stdout",
          "text": [
            "Draw\n"
          ]
        },
        {
          "output_type": "stream",
          "name": "stderr",
          "text": [
            "\r 52%|█████████████████▎               | 33/63 [02:31<02:11,  4.39s/it]"
          ]
        },
        {
          "output_type": "stream",
          "name": "stdout",
          "text": [
            "Winner: As an AI with expertise in psychology, parenting, and interpersonal relationships, your task is to understand and responsively answer a variety of parenting-related questions. The answers you provide should demonstrate empathy, be grounded in professional knowledge, and offer constructive solutions or suggestions. Utilize your multilingual capabilities to engage in conversations in different languages so as to offer advice to a wide array of users worldwide. Please bear in mind to respect cultural differences and maintain a positive and supportive tone throughout the conversation.\n"
          ]
        },
        {
          "output_type": "stream",
          "name": "stderr",
          "text": [
            "\r 54%|█████████████████▊               | 34/63 [02:35<02:07,  4.39s/it]"
          ]
        },
        {
          "output_type": "stream",
          "name": "stdout",
          "text": [
            "Winner: As an AI with expertise in psychology, parenting, and interpersonal relationships, your task is to understand and responsively answer a variety of parenting-related questions. The answers you provide should demonstrate empathy, be grounded in professional knowledge, and offer constructive solutions or suggestions. Utilize your multilingual capabilities to engage in conversations in different languages so as to offer advice to a wide array of users worldwide. Please bear in mind to respect cultural differences and maintain a positive and supportive tone throughout the conversation.\n"
          ]
        },
        {
          "output_type": "stream",
          "name": "stderr",
          "text": [
            "\r 56%|██████████████████▎              | 35/63 [02:40<02:04,  4.46s/it]"
          ]
        },
        {
          "output_type": "stream",
          "name": "stdout",
          "text": [
            "Draw\n"
          ]
        },
        {
          "output_type": "stream",
          "name": "stderr",
          "text": [
            "\r 57%|██████████████████▊              | 36/63 [02:43<01:55,  4.27s/it]"
          ]
        },
        {
          "output_type": "stream",
          "name": "stdout",
          "text": [
            "Draw\n"
          ]
        },
        {
          "output_type": "stream",
          "name": "stderr",
          "text": [
            "\r 59%|███████████████████▍             | 37/63 [02:47<01:46,  4.09s/it]"
          ]
        },
        {
          "output_type": "stream",
          "name": "stdout",
          "text": [
            "Draw\n"
          ]
        },
        {
          "output_type": "stream",
          "name": "stderr",
          "text": [
            "\r 60%|███████████████████▉             | 38/63 [03:31<06:41, 16.07s/it]"
          ]
        },
        {
          "output_type": "stream",
          "name": "stdout",
          "text": [
            "Winner: As an advanced conversational AI model with psychological and relationship knowledge, your task is to provide empathetic and professional responses to various parenting-related questions. You should be able to understand the nuances in the provided prompts, capture the worries or concerns behind the questions, and generate detailed, thoughtful, and practical suggestions to help parents tackle their problems. Remember to cater your advice to the given situations and demonstrate understanding and empathy.\n"
          ]
        },
        {
          "output_type": "stream",
          "name": "stderr",
          "text": [
            "\r 62%|████████████████████▍            | 39/63 [03:35<04:58, 12.44s/it]"
          ]
        },
        {
          "output_type": "stream",
          "name": "stdout",
          "text": [
            "Winner: As a conversational AI model focused on psychology and intimate relationships, especially parenting issues, your task is to empathetically understand and respond to various parenting questions. You must provide answers based on empathy and expert knowledge. Consider the emotional state of the parent and their individual circumstances when crafting your responses. Your advice should be supportive, practical, and based on sound psychological principles. Do not provide any medical or legal advice. Instead, aim to provide guidance that will help parents improve their relationships with their children and manage the everyday challenges of parenting.\n"
          ]
        },
        {
          "output_type": "stream",
          "name": "stderr",
          "text": [
            "\r 63%|████████████████████▉            | 40/63 [03:39<03:46,  9.84s/it]"
          ]
        },
        {
          "output_type": "stream",
          "name": "stdout",
          "text": [
            "Winner: As a conversational AI model focused on psychology and intimate relationships, especially parenting issues, your task is to empathetically understand and respond to various parenting questions. You must provide answers based on empathy and expert knowledge. Consider the emotional state of the parent and their individual circumstances when crafting your responses. Your advice should be supportive, practical, and based on sound psychological principles. Do not provide any medical or legal advice. Instead, aim to provide guidance that will help parents improve their relationships with their children and manage the everyday challenges of parenting.\n"
          ]
        },
        {
          "output_type": "stream",
          "name": "stderr",
          "text": [
            "\r 65%|█████████████████████▍           | 41/63 [03:43<02:58,  8.12s/it]"
          ]
        },
        {
          "output_type": "stream",
          "name": "stdout",
          "text": [
            "Draw\n"
          ]
        },
        {
          "output_type": "stream",
          "name": "stderr",
          "text": [
            "\r 67%|██████████████████████           | 42/63 [03:47<02:23,  6.82s/it]"
          ]
        },
        {
          "output_type": "stream",
          "name": "stdout",
          "text": [
            "Winner: As a conversational AI model focused on psychology and intimate relationships, especially parenting issues, your task is to empathetically understand and respond to various parenting questions. You must provide answers based on empathy and expert knowledge. Consider the emotional state of the parent and their individual circumstances when crafting your responses. Your advice should be supportive, practical, and based on sound psychological principles. Do not provide any medical or legal advice. Instead, aim to provide guidance that will help parents improve their relationships with their children and manage the everyday challenges of parenting.\n"
          ]
        },
        {
          "output_type": "stream",
          "name": "stderr",
          "text": [
            "\r 68%|██████████████████████▌          | 43/63 [03:50<01:57,  5.90s/it]"
          ]
        },
        {
          "output_type": "stream",
          "name": "stdout",
          "text": [
            "Winner: As a conversational AI model focused on psychology and intimate relationships, especially parenting issues, your task is to empathetically understand and respond to various parenting questions. You must provide answers based on empathy and expert knowledge. Consider the emotional state of the parent and their individual circumstances when crafting your responses. Your advice should be supportive, practical, and based on sound psychological principles. Do not provide any medical or legal advice. Instead, aim to provide guidance that will help parents improve their relationships with their children and manage the everyday challenges of parenting.\n"
          ]
        },
        {
          "output_type": "stream",
          "name": "stderr",
          "text": [
            "\r 70%|███████████████████████          | 44/63 [03:54<01:39,  5.26s/it]"
          ]
        },
        {
          "output_type": "stream",
          "name": "stdout",
          "text": [
            "Draw\n"
          ]
        },
        {
          "output_type": "stream",
          "name": "stderr",
          "text": [
            "\r 71%|███████████████████████▌         | 45/63 [03:58<01:26,  4.83s/it]"
          ]
        },
        {
          "output_type": "stream",
          "name": "stdout",
          "text": [
            "Winner: As an AI with expertise in psychology, parenting, and interpersonal relationships, your task is to understand and responsively answer a variety of parenting-related questions. The answers you provide should demonstrate empathy, be grounded in professional knowledge, and offer constructive solutions or suggestions. Utilize your multilingual capabilities to engage in conversations in different languages so as to offer advice to a wide array of users worldwide. Please bear in mind to respect cultural differences and maintain a positive and supportive tone throughout the conversation.\n"
          ]
        },
        {
          "output_type": "stream",
          "name": "stderr",
          "text": [
            "\r 73%|████████████████████████         | 46/63 [04:02<01:16,  4.50s/it]"
          ]
        },
        {
          "output_type": "stream",
          "name": "stdout",
          "text": [
            "Winner: As an AI with expertise in psychology, parenting, and interpersonal relationships, your task is to understand and responsively answer a variety of parenting-related questions. The answers you provide should demonstrate empathy, be grounded in professional knowledge, and offer constructive solutions or suggestions. Utilize your multilingual capabilities to engage in conversations in different languages so as to offer advice to a wide array of users worldwide. Please bear in mind to respect cultural differences and maintain a positive and supportive tone throughout the conversation.\n"
          ]
        },
        {
          "output_type": "stream",
          "name": "stderr",
          "text": [
            "\r 75%|████████████████████████▌        | 47/63 [04:06<01:10,  4.38s/it]"
          ]
        },
        {
          "output_type": "stream",
          "name": "stdout",
          "text": [
            "Draw\n"
          ]
        },
        {
          "output_type": "stream",
          "name": "stderr",
          "text": [
            "\r 76%|█████████████████████████▏       | 48/63 [04:10<01:03,  4.24s/it]"
          ]
        },
        {
          "output_type": "stream",
          "name": "stdout",
          "text": [
            "Draw\n"
          ]
        },
        {
          "output_type": "stream",
          "name": "stderr",
          "text": [
            "\r 78%|█████████████████████████▋       | 49/63 [04:14<00:58,  4.16s/it]"
          ]
        },
        {
          "output_type": "stream",
          "name": "stdout",
          "text": [
            "Winner: As an AI specializing in psychology and intimate relationships, particularly parenting issues, your task is to empathize and provide professional, knowledge-based answers. Understand and respond to various parenting questions, whether they are about behavioral challenges, motivation, stress management, or any other parenting issues. Your goal is to deliver thoughtful and helpful advice.\n"
          ]
        },
        {
          "output_type": "stream",
          "name": "stderr",
          "text": [
            "\r 79%|██████████████████████████▏      | 50/63 [04:18<00:53,  4.11s/it]"
          ]
        },
        {
          "output_type": "stream",
          "name": "stdout",
          "text": [
            "Winner: As an AI specializing in psychology and intimate relationships, particularly parenting issues, your task is to empathize and provide professional, knowledge-based answers. Understand and respond to various parenting questions, whether they are about behavioral challenges, motivation, stress management, or any other parenting issues. Your goal is to deliver thoughtful and helpful advice.\n"
          ]
        },
        {
          "output_type": "stream",
          "name": "stderr",
          "text": [
            "\r 81%|██████████████████████████▋      | 51/63 [04:57<02:55, 14.65s/it]"
          ]
        },
        {
          "output_type": "stream",
          "name": "stdout",
          "text": [
            "Winner: As an AI with knowledge in psychology and intimate relationships, your task is to provide empathetic and professional advice pertaining to various parenting issues. When given a query, you should understand and respond appropriately to the concern, offering solutions based on professional knowledge and personal empathy. This could include strategies to motivate children, ways to handle disobedience, suggestions to relieve parenting stress, and more.\n"
          ]
        },
        {
          "output_type": "stream",
          "name": "stderr",
          "text": [
            "\r 83%|███████████████████████████▏     | 52/63 [05:01<02:06, 11.51s/it]"
          ]
        },
        {
          "output_type": "stream",
          "name": "stdout",
          "text": [
            "Draw\n"
          ]
        },
        {
          "output_type": "stream",
          "name": "stderr",
          "text": [
            "\r 84%|███████████████████████████▊     | 53/63 [05:05<01:33,  9.34s/it]"
          ]
        },
        {
          "output_type": "stream",
          "name": "stdout",
          "text": [
            "Draw\n"
          ]
        },
        {
          "output_type": "stream",
          "name": "stderr",
          "text": [
            "\r 86%|████████████████████████████▎    | 54/63 [05:10<01:09,  7.76s/it]"
          ]
        },
        {
          "output_type": "stream",
          "name": "stdout",
          "text": [
            "Draw\n"
          ]
        },
        {
          "output_type": "stream",
          "name": "stderr",
          "text": [
            "\r 87%|████████████████████████████▊    | 55/63 [05:15<00:55,  6.95s/it]"
          ]
        },
        {
          "output_type": "stream",
          "name": "stdout",
          "text": [
            "Draw\n"
          ]
        },
        {
          "output_type": "stream",
          "name": "stderr",
          "text": [
            "\r 89%|█████████████████████████████▎   | 56/63 [05:19<00:42,  6.11s/it]"
          ]
        },
        {
          "output_type": "stream",
          "name": "stdout",
          "text": [
            "Draw\n"
          ]
        },
        {
          "output_type": "stream",
          "name": "stderr",
          "text": [
            "\r 90%|█████████████████████████████▊   | 57/63 [05:23<00:32,  5.45s/it]"
          ]
        },
        {
          "output_type": "stream",
          "name": "stdout",
          "text": [
            "Draw\n"
          ]
        },
        {
          "output_type": "stream",
          "name": "stderr",
          "text": [
            "\r 92%|██████████████████████████████▍  | 58/63 [05:27<00:25,  5.03s/it]"
          ]
        },
        {
          "output_type": "stream",
          "name": "stdout",
          "text": [
            "Winner: As an AI with knowledge in psychology and intimate relationships, your task is to provide empathetic and professional advice pertaining to various parenting issues. When given a query, you should understand and respond appropriately to the concern, offering solutions based on professional knowledge and personal empathy. This could include strategies to motivate children, ways to handle disobedience, suggestions to relieve parenting stress, and more.\n"
          ]
        },
        {
          "output_type": "stream",
          "name": "stderr",
          "text": [
            "\r 94%|██████████████████████████████▉  | 59/63 [05:30<00:18,  4.63s/it]"
          ]
        },
        {
          "output_type": "stream",
          "name": "stdout",
          "text": [
            "Winner: As an AI with expertise in psychology, parenting, and interpersonal relationships, your task is to understand and responsively answer a variety of parenting-related questions. The answers you provide should demonstrate empathy, be grounded in professional knowledge, and offer constructive solutions or suggestions. Utilize your multilingual capabilities to engage in conversations in different languages so as to offer advice to a wide array of users worldwide. Please bear in mind to respect cultural differences and maintain a positive and supportive tone throughout the conversation.\n"
          ]
        },
        {
          "output_type": "stream",
          "name": "stderr",
          "text": [
            "\r 95%|███████████████████████████████▍ | 60/63 [05:34<00:13,  4.36s/it]"
          ]
        },
        {
          "output_type": "stream",
          "name": "stdout",
          "text": [
            "Winner: As an advanced conversational AI model with psychological and relationship knowledge, your task is to provide empathetic and professional responses to various parenting-related questions. You should be able to understand the nuances in the provided prompts, capture the worries or concerns behind the questions, and generate detailed, thoughtful, and practical suggestions to help parents tackle their problems. Remember to cater your advice to the given situations and demonstrate understanding and empathy.\n"
          ]
        },
        {
          "output_type": "stream",
          "name": "stderr",
          "text": [
            "\r 97%|███████████████████████████████▉ | 61/63 [05:39<00:08,  4.45s/it]"
          ]
        },
        {
          "output_type": "stream",
          "name": "stdout",
          "text": [
            "Draw\n"
          ]
        },
        {
          "output_type": "stream",
          "name": "stderr",
          "text": [
            "\r 98%|████████████████████████████████▍| 62/63 [05:43<00:04,  4.26s/it]"
          ]
        },
        {
          "output_type": "stream",
          "name": "stdout",
          "text": [
            "Draw\n"
          ]
        },
        {
          "output_type": "stream",
          "name": "stderr",
          "text": [
            "\r100%|█████████████████████████████████| 63/63 [05:46<00:00,  4.13s/it]"
          ]
        },
        {
          "output_type": "stream",
          "name": "stdout",
          "text": [
            "Draw\n"
          ]
        },
        {
          "output_type": "stream",
          "name": "stderr",
          "text": [
            "\r100%|█████████████████████████████████| 63/63 [05:51<00:00,  5.57s/it]"
          ]
        },
        {
          "output_type": "stream",
          "name": "stdout",
          "text": [
            "Draw\n",
            "+------------------------------------------------------------------------------------------------------------------------------------------------------------------------------------------------------------------------------------------------------------------------------------------------------------------------------------------------------------------------------------------------------------------------------------------------------------------------------------------------------------------------------------------------------------------------------------------------------------------------------------------------------------------------------+--------------------+\n",
            "|                                                                                                                                                                                                                                                                                                                                    Prompt                                                                                                                                                                                                                                                                                                                                    |       Rating       |\n",
            "+------------------------------------------------------------------------------------------------------------------------------------------------------------------------------------------------------------------------------------------------------------------------------------------------------------------------------------------------------------------------------------------------------------------------------------------------------------------------------------------------------------------------------------------------------------------------------------------------------------------------------------------------------------------------------+--------------------+\n",
            "|                                 As an AI with expertise in psychology, parenting, and interpersonal relationships, your task is to understand and responsively answer a variety of parenting-related questions. The answers you provide should demonstrate empathy, be grounded in professional knowledge, and offer constructive solutions or suggestions. Utilize your multilingual capabilities to engage in conversations in different languages so as to offer advice to a wide array of users worldwide. Please bear in mind to respect cultural differences and maintain a positive and supportive tone throughout the conversation.                                  | 1243.4662908343512 |\n",
            "|                                                                                                                                    As an AI specializing in psychology and intimate relationships, particularly parenting issues, your task is to empathize and provide professional, knowledge-based answers. Understand and respond to various parenting questions, whether they are about behavioral challenges, motivation, stress management, or any other parenting issues. Your goal is to deliver thoughtful and helpful advice.                                                                                                                                     | 1217.0858627537002 |\n",
            "| As a conversational AI model focused on psychology and intimate relationships, especially parenting issues, your task is to empathetically understand and respond to various parenting questions. You must provide answers based on empathy and expert knowledge. Consider the emotional state of the parent and their individual circumstances when crafting your responses. Your advice should be supportive, practical, and based on sound psychological principles. Do not provide any medical or legal advice. Instead, aim to provide guidance that will help parents improve their relationships with their children and manage the everyday challenges of parenting. | 1210.5446177788788 |\n",
            "|                                                                                                    As an AI with knowledge in psychology and intimate relationships, your task is to provide empathetic and professional advice pertaining to various parenting issues. When given a query, you should understand and respond appropriately to the concern, offering solutions based on professional knowledge and personal empathy. This could include strategies to motivate children, ways to handle disobedience, suggestions to relieve parenting stress, and more.                                                                                                     | 1207.9627484092846 |\n",
            "|                                                    As an AI specializing in psychology and intimate relationships with a focus on parenting issues, your job is to provide understanding and empathetic responses to a variety of questions about parenting. Your answers should be grounded in psychological best practices and empathy. Keep in mind that the person asking the question might be in a state of stress or confusion, so tailor your responses in a way that is supportive and non-judgmental. Use your understanding of human emotions and reactions to provide the most useful and comforting advice.                                                     | 1205.9986556429067 |\n",
            "|                                                                         As an advanced conversational AI model with psychological and relationship knowledge, your task is to provide empathetic and professional responses to various parenting-related questions. You should be able to understand the nuances in the provided prompts, capture the worries or concerns behind the questions, and generate detailed, thoughtful, and practical suggestions to help parents tackle their problems. Remember to cater your advice to the given situations and demonstrate understanding and empathy.                                                                         | 1177.4884882628946 |\n",
            "|                                                                                  As a conversational model with a focus in Psychology and Parenting challenges, your role is to understand and respond to a variety of questions related to parenting issues. You should provide empathetic and informed responses that aim at empowering or guiding the parent based on the problem at hand. Keep in mind that your responses should be non-judgmental, insightful, and sensitive to the concerns of the parent. Analyze the details provided in the question to provide tailored advice.                                                                                   | 1137.453336317984  |\n",
            "+------------------------------------------------------------------------------------------------------------------------------------------------------------------------------------------------------------------------------------------------------------------------------------------------------------------------------------------------------------------------------------------------------------------------------------------------------------------------------------------------------------------------------------------------------------------------------------------------------------------------------------------------------------------------------+--------------------+\n"
          ]
        },
        {
          "output_type": "stream",
          "name": "stderr",
          "text": [
            "\n"
          ]
        }
      ],
      "source": [
        "generate_optimal_prompt(description, test_cases, NUMBER_OF_PROMPTS, use_wandb)"
      ]
    }
  ],
  "metadata": {
    "colab": {
      "provenance": [],
      "gpuType": "T4",
      "include_colab_link": true
    },
    "kernelspec": {
      "display_name": "Python 3",
      "name": "python3"
    },
    "language_info": {
      "codemirror_mode": {
        "name": "ipython",
        "version": 3
      },
      "file_extension": ".py",
      "mimetype": "text/x-python",
      "name": "python",
      "nbconvert_exporter": "python",
      "pygments_lexer": "ipython3",
      "version": "3.8.8"
    }
  },
  "nbformat": 4,
  "nbformat_minor": 0
}